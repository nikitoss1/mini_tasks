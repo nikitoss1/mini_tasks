{
 "cells": [
  {
   "cell_type": "markdown",
   "metadata": {},
   "source": [
    "<h2>Задание 1<h2>\n",
    "<h5>Напишите программу, которая будет выводить на экран площадь квадрата и его периметр. Сторона квадрата будет равна 25<h5>"
   ]
  },
  {
   "cell_type": "code",
   "execution_count": 7,
   "metadata": {},
   "outputs": [
    {
     "name": "stdout",
     "output_type": "stream",
     "text": [
      "Площадь квадрата равна 625\n",
      "Периметр квадрата равен 100\n"
     ]
    }
   ],
   "source": [
    "def square(size_side) -> float:\n",
    "    return size_side ** 2\n",
    "\n",
    "def perimeter(size_side) -> float:\n",
    "    return size_side * 4\n",
    "\n",
    "def main(size_side: float=25):\n",
    "    print(f'Площадь квадрата равна {square(size_side)}\\n\\\n",
    "Периметр квадрата равен {perimeter(size_side)}')\n",
    "\n",
    "main()"
   ]
  },
  {
   "cell_type": "markdown",
   "metadata": {},
   "source": [
    "<h2>Задание 2<h2>\n",
    "<h5>Напишите функцию, которая будет принимать два числа и считать сумму квадратов этих двух чисел, запишите своё вычисление в переменную squared<h5>"
   ]
  },
  {
   "cell_type": "code",
   "execution_count": 8,
   "metadata": {},
   "outputs": [
    {
     "name": "stdout",
     "output_type": "stream",
     "text": [
      "Сумма квадратов двух чисел равна 41\n"
     ]
    }
   ],
   "source": [
    "def squared(num1: int, num2: int) -> int:\n",
    "    return num1 ** 2 + num2 ** 2\n",
    "\n",
    "def main():\n",
    "    num1, num2 = 5, 4\n",
    "    print(f'Сумма квадратов двух чисел равна {squared(num1, num2)}')\n",
    "\n",
    "main()"
   ]
  },
  {
   "cell_type": "markdown",
   "metadata": {},
   "source": [
    "<h2>Задание 3<h2>\n",
    "<h5>Напишите функцию, которая будет принимать на вход список  [“male“,“male“,“female“,“male“,“male“,“female“,”female“] и возвращать его в обратном порядке. Запишите список в переменную new_list<h5>"
   ]
  },
  {
   "cell_type": "code",
   "execution_count": 9,
   "metadata": {},
   "outputs": [
    {
     "name": "stdout",
     "output_type": "stream",
     "text": [
      "Перевернутый список выглядит так: ['female', 'female', 'male', 'male', 'female', 'male', 'male']\n"
     ]
    }
   ],
   "source": [
    "def reversed_list(lst: list) -> list:\n",
    "    return lst[::-1]\n",
    "\n",
    "def main():\n",
    "    new_list = ['male','male','female','male','male','female','female']\n",
    "    print(f'Перевернутый список выглядит так: {reversed_list(new_list)}')\n",
    "\n",
    "main()"
   ]
  },
  {
   "cell_type": "markdown",
   "metadata": {},
   "source": [
    "<h2>Задание 4<h2>\n",
    "<h5>Напишите функцию, которая будет принимать на вход список (new_list) и идти по нему в цикле. На выходе функция должна вывести на экран: Кол-во мужчин 4, Кол-во женщин 3<h5>"
   ]
  },
  {
   "cell_type": "code",
   "execution_count": 13,
   "metadata": {},
   "outputs": [
    {
     "name": "stdout",
     "output_type": "stream",
     "text": [
      "Количество женщин - 3\n",
      "Количество мужчин - 4\n"
     ]
    }
   ],
   "source": [
    "def number_of_people_by_gender(genders: list) -> dict:\n",
    "    number_peoples = {}\n",
    "    for gender in genders:\n",
    "        number_peoples.setdefault(gender, 0)\n",
    "        number_peoples[gender] += 1\n",
    "    \n",
    "    return number_peoples\n",
    "\n",
    "def main():\n",
    "    new_list = ['male','male','female','male','male','female','female']\n",
    "    number_peoples = number_of_people_by_gender(new_list)\n",
    "    print(f'Количество женщин - {number_peoples[\"female\"]}\\n\\\n",
    "Количество мужчин - {number_peoples[\"male\"]}')\n",
    "\n",
    "main()"
   ]
  },
  {
   "cell_type": "code",
   "execution_count": 28,
   "metadata": {},
   "outputs": [
    {
     "name": "stdout",
     "output_type": "stream",
     "text": [
      "Количество женщин - 3\n",
      "Количество мужчин - 4\n"
     ]
    }
   ],
   "source": [
    "def main():\n",
    "    new_list = ['male','male','female','male','male','female','female']\n",
    "    print(f'Количество женщин - {new_list.count(\"female\")}\\n\\\n",
    "Количество мужчин - {new_list.count(\"male\")}')\n",
    "\n",
    "main()"
   ]
  },
  {
   "cell_type": "markdown",
   "metadata": {},
   "source": [
    "<h2>Задание 5<h2>\n",
    "<h5>Напишите функцию, которая будет принимать строку (Например: “female”), а возвращать словарь где ключи — это символы строки, а значения кол-во символов в строке. <h5>"
   ]
  },
  {
   "cell_type": "code",
   "execution_count": 18,
   "metadata": {},
   "outputs": [
    {
     "name": "stdout",
     "output_type": "stream",
     "text": [
      "{\n",
      "     \"f\": 1,\n",
      "     \"e\": 2,\n",
      "     \"m\": 1,\n",
      "     \"a\": 1,\n",
      "     \"l\": 1\n",
      "}\n"
     ]
    }
   ],
   "source": [
    "import json\n",
    "\n",
    "def string_to_dict(string: str) -> dict:\n",
    "    symbols = list(string)\n",
    "    number_symbols = {}\n",
    "    for symbol in symbols:\n",
    "        number_symbols.setdefault(symbol, 0)\n",
    "        number_symbols[symbol] += 1\n",
    "\n",
    "    return number_symbols\n",
    "\n",
    "def main():\n",
    "    string = 'female'\n",
    "    result_dict = string_to_dict(string)\n",
    "    print(json.dumps(result_dict, indent=len(result_dict), ensure_ascii=False))\n",
    "\n",
    "main()"
   ]
  },
  {
   "cell_type": "markdown",
   "metadata": {},
   "source": [
    "<h2>Задание 6<h2>\n",
    "<h5>Воспользуйтесь функцией range в Python и выведите на экран сумму квадратов от 1 до 100 (включительно)<h5>"
   ]
  },
  {
   "cell_type": "code",
   "execution_count": 22,
   "metadata": {},
   "outputs": [
    {
     "name": "stdout",
     "output_type": "stream",
     "text": [
      "338350\n"
     ]
    }
   ],
   "source": [
    "def sum_of_squares(upper_bound: int) -> int:\n",
    "    result = 0\n",
    "    for index in range(1, upper_bound + 1):\n",
    "        result += index ** 2\n",
    "    return result\n",
    "    \n",
    "def main():\n",
    "    number = 100\n",
    "    print(f'{sum_of_squares(number)}')\n",
    "\n",
    "main()"
   ]
  },
  {
   "cell_type": "markdown",
   "metadata": {},
   "source": [
    "<h2>Задание 7<h2>\n",
    "<h5>Укажите какой метод добавит значение в конец списка. Приведите пример<h5>"
   ]
  },
  {
   "cell_type": "code",
   "execution_count": 29,
   "metadata": {},
   "outputs": [
    {
     "data": {
      "text/plain": [
       "['male', 'male', 'female', 'male', 'male', 'female', 'female', 'male']"
      ]
     },
     "execution_count": 29,
     "metadata": {},
     "output_type": "execute_result"
    }
   ],
   "source": [
    "new_list = ['male','male','female','male','male','female','female']\n",
    "new_list.append('male')\n",
    "new_list"
   ]
  },
  {
   "cell_type": "markdown",
   "metadata": {},
   "source": [
    "<h2>Задание 8<h2>\n",
    "<h5>Как объединить два списка \"a\" и \"b\" в один новый список \"c\"? Приведите пример.<h5>"
   ]
  },
  {
   "cell_type": "code",
   "execution_count": 31,
   "metadata": {},
   "outputs": [
    {
     "data": {
      "text/plain": [
       "[1, 2, 3, 4, 5, 6, 7, 8, 9, 10]"
      ]
     },
     "execution_count": 31,
     "metadata": {},
     "output_type": "execute_result"
    }
   ],
   "source": [
    "a = [1, 2, 3, 4, 5]\n",
    "b = [6, 7, 8, 9, 10]\n",
    "c = a + b\n",
    "c"
   ]
  },
  {
   "cell_type": "markdown",
   "metadata": {},
   "source": [
    "<h2>Задание 9<h2>\n",
    "<h5>Укажите какой метод посчитает количество значений в списке. Приведите пример<h5>"
   ]
  },
  {
   "cell_type": "code",
   "execution_count": 34,
   "metadata": {},
   "outputs": [
    {
     "name": "stdout",
     "output_type": "stream",
     "text": [
      "Количество всех значений - 8\n",
      "Количество конкретных значений \"male\" - 5\n"
     ]
    }
   ],
   "source": [
    "print(f'Количество всех значений - {len(new_list)}')\n",
    "print(f'Количество конкретных значений \"male\" - {new_list.count(\"male\")}')"
   ]
  },
  {
   "cell_type": "markdown",
   "metadata": {},
   "source": [
    "<h2>Задание 10<h2>\n",
    "<h5>Написать программу, которая будет выводить на экран числа Фибоначчи до заданного числа<h5>"
   ]
  },
  {
   "cell_type": "code",
   "execution_count": 42,
   "metadata": {},
   "outputs": [
    {
     "name": "stdout",
     "output_type": "stream",
     "text": [
      "Все числа Фибоначчи до числа 144:\n",
      "0, 1, 1, 2, 3, 5, 8, 13, 21, 34, 55, 89, 144\n"
     ]
    }
   ],
   "source": [
    "def fibonacci_numbers(upper_bound: int) -> list:\n",
    "    if upper_bound == 0:\n",
    "        return [0]\n",
    "    if upper_bound == 1:\n",
    "        return [0, 1]\n",
    "    \n",
    "    result = [0, 1]\n",
    "    for i in range(upper_bound):\n",
    "        sum_of_nums = result[-1] + result[-2]\n",
    "        if sum_of_nums > upper_bound:\n",
    "            return result\n",
    "        else:\n",
    "            result.append(sum_of_nums)\n",
    "\n",
    "def main():   \n",
    "    upper_bound = 144\n",
    "    print(f'Все числа Фибоначчи до числа {upper_bound}:\\n{str(fibonacci_numbers(upper_bound)).replace(\"[\", \"\").replace(\"]\", \"\")}')\n",
    "\n",
    "main()"
   ]
  },
  {
   "cell_type": "markdown",
   "metadata": {},
   "source": [
    "<h2>Задание 11<h2>\n",
    "<h5>Напишите программу, которая на вход принимает список чисел и возвращает только уникальные значения из этого списка<h5>"
   ]
  },
  {
   "cell_type": "code",
   "execution_count": 44,
   "metadata": {},
   "outputs": [
    {
     "name": "stdout",
     "output_type": "stream",
     "text": [
      "Все уникальные числа списка:\n",
      "1, 2, 3, 4, 6, 7, 13\n"
     ]
    }
   ],
   "source": [
    "def unique_elements_of_list(list_of_numbers: list) -> list:\n",
    "    return list(set(list_of_numbers))\n",
    "\n",
    "def main():\n",
    "    list_of_numbers = [1,2,1,1,4,4,13,6,3,4,6,7]\n",
    "    print(f'Все уникальные числа списка:\\n{str(unique_elements_of_list(list_of_numbers)).replace(\"[\", \"\").replace(\"]\", \"\")}')\n",
    "\n",
    "main()"
   ]
  },
  {
   "cell_type": "markdown",
   "metadata": {},
   "source": [
    "<h2>Задание 12<h2>\n",
    "<h5>Напишите программу, которая переводит температуру в градусах Фаренгейта в градусы Цельсия<h5>"
   ]
  },
  {
   "cell_type": "code",
   "execution_count": 48,
   "metadata": {},
   "outputs": [
    {
     "name": "stdout",
     "output_type": "stream",
     "text": [
      "54 Фарейнгейтов равняется 12.22 градусам Цельсия\n"
     ]
    }
   ],
   "source": [
    "def fahrenheit_in_celsius(gradus_in_farengeit: float) -> float:\n",
    "    return (gradus_in_farengeit - 32) * 5 / 9\n",
    "\n",
    "def main():\n",
    "    gradus_in_farenheit = 54\n",
    "    print(f'{gradus_in_farenheit} Фарейнгейтов равняется {round(fahrenheit_in_celsius(gradus_in_farenheit), 2)} градусам Цельсия')\n",
    "\n",
    "main()"
   ]
  },
  {
   "cell_type": "markdown",
   "metadata": {},
   "source": [
    "<h2>Задание 13<h2>\n",
    "<h5>Напишите программу, которая проверяет, является ли строка палиндромом без использования стандартных методов<h5>"
   ]
  },
  {
   "cell_type": "code",
   "execution_count": 56,
   "metadata": {},
   "outputs": [
    {
     "name": "stdout",
     "output_type": "stream",
     "text": [
      "Строка abcdba НЕ является палиндромом\n"
     ]
    }
   ],
   "source": [
    "def reverse_string(string:str) -> str:\n",
    "    string = list(string)[::-1]\n",
    "    return ''.join(string)\n",
    "\n",
    "def is_palindrome(string: str) -> bool:\n",
    "    return string == reverse_string(string)\n",
    "\n",
    "def main():\n",
    "    string = 'abcdba'\n",
    "    result = is_palindrome(string)\n",
    "    if result == True:\n",
    "        print(f'Строка {string} является палиндромом')\n",
    "    else:\n",
    "        print(f'Строка {string} НЕ является палиндромом')\n",
    "\n",
    "main()"
   ]
  }
 ],
 "metadata": {
  "kernelspec": {
   "display_name": "venv",
   "language": "python",
   "name": "python3"
  },
  "language_info": {
   "codemirror_mode": {
    "name": "ipython",
    "version": 3
   },
   "file_extension": ".py",
   "mimetype": "text/x-python",
   "name": "python",
   "nbconvert_exporter": "python",
   "pygments_lexer": "ipython3",
   "version": "3.10.11"
  }
 },
 "nbformat": 4,
 "nbformat_minor": 2
}
